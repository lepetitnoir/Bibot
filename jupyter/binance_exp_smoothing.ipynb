{
 "cells": [
  {
   "cell_type": "markdown",
   "id": "51863fd2",
   "metadata": {
    "pycharm": {
     "name": "#%%\n"
    }
   },
   "source": [
    "## Import"
   ]
  },
  {
   "cell_type": "code",
   "execution_count": null,
   "id": "f2d68d27",
   "metadata": {
    "pycharm": {
     "name": "#%%\n"
    }
   },
   "outputs": [],
   "source": [
    "import math\n",
    "import matplotlib as plt\n",
    "%matplotlib inline\n",
    "import pandas as pd\n",
    "from statsmodels.tsa.holtwinters import Holt\n",
    "from sqlalchemy import create_engine"
   ]
  },
  {
   "cell_type": "markdown",
   "id": "b711e430",
   "metadata": {
    "pycharm": {
     "name": "#%% md\n"
    }
   },
   "source": [
    "## Load Data"
   ]
  },
  {
   "cell_type": "code",
   "execution_count": null,
   "id": "bd524fad",
   "metadata": {
    "pycharm": {
     "name": "#%%\n"
    }
   },
   "outputs": [],
   "source": [
    "def load_database(db_name, table, columns):\n",
    "    engine = create_engine(f\"sqlite:///../out/{db_name}.db\", echo=False, future=False)\n",
    "    db = None,\n",
    "    with engine.connect() as con:\n",
    "        sql_query = pd.read_sql_query(f\"select * from {table}\", con)\n",
    "        db = pd.DataFrame(sql_query, columns = columns)\n",
    "    return db\n",
    "                                      \n",
    "data = load_database(\"binance_historic_trades_1_week\", \"historic_trades\", \n",
    "                           [\"tradeId\", \"symbol\", \"price\", \"quantity\", \"timestamp\"])"
   ]
  },
  {
   "cell_type": "markdown",
   "id": "b4d9e865",
   "metadata": {
    "pycharm": {
     "name": "#%% md\n"
    }
   },
   "source": [
    "## Dropping Superflous Data"
   ]
  },
  {
   "cell_type": "code",
   "execution_count": null,
   "id": "e5fcdea1",
   "metadata": {
    "pycharm": {
     "name": "#%%\n"
    }
   },
   "outputs": [],
   "source": [
    "data = data[[\"price\", \"timestamp\"]]"
   ]
  },
  {
   "cell_type": "markdown",
   "id": "509873e5",
   "metadata": {
    "pycharm": {
     "name": "#%% md\n"
    }
   },
   "source": [
    "## Data Quality Checks"
   ]
  },
  {
   "cell_type": "code",
   "execution_count": null,
   "id": "4f7fabc7",
   "metadata": {
    "pycharm": {
     "name": "#%%\n"
    }
   },
   "outputs": [],
   "source": [
    "duplicated_rows = data[data.duplicated()]\n",
    "duplicated_timestamps = data[data[\"timestamp\"].duplicated()]\n",
    "\n",
    "\n",
    "print(f\"Duplicated rows: {duplicated_rows.shape[0]}\")\n",
    "print(f\"Duplicated timestamps: {duplicated_timestamps.shape[0]}\")"
   ]
  },
  {
   "cell_type": "code",
   "execution_count": null,
   "id": "b3fea661",
   "metadata": {
    "pycharm": {
     "name": "#%%\n"
    }
   },
   "outputs": [],
   "source": [
    "nan_rows = data[data.isna().any(axis=1)]\n",
    "\n",
    "print(f\"NaN rows: {nan_rows.shape[0]}\")"
   ]
  },
  {
   "cell_type": "code",
   "execution_count": null,
   "id": "7f43d68a",
   "metadata": {},
   "outputs": [],
   "source": [
    "diffed = data[\"timestamp\"].diff().drop(0)\n",
    "is_sorted = (diffed >= 0).all()\n",
    "\n",
    "print(f\"Dataframe timestamps are sorted = {is_sorted}\")"
   ]
  },
  {
   "cell_type": "markdown",
   "id": "bf3f772d",
   "metadata": {
    "pycharm": {
     "name": "#%% md\n"
    }
   },
   "source": [
    "## Data Conversions"
   ]
  },
  {
   "cell_type": "markdown",
   "id": "364904c9",
   "metadata": {
    "pycharm": {
     "name": "#%% md\n"
    }
   },
   "source": [
    "### Convert unix time to datetime and set frequency"
   ]
  },
  {
   "cell_type": "code",
   "execution_count": null,
   "id": "e47197e5",
   "metadata": {
    "pycharm": {
     "name": "#%%\n"
    }
   },
   "outputs": [],
   "source": [
    "data[\"timestamp\"] = pd.to_datetime(data[\"timestamp\"], unit = \"ms\").dt.round(\"min\")"
   ]
  },
  {
   "cell_type": "markdown",
   "id": "d68af5a6",
   "metadata": {
    "pycharm": {
     "name": "#%% md\n"
    }
   },
   "source": [
    "### Squash duplicate timestamps"
   ]
  },
  {
   "cell_type": "code",
   "execution_count": null,
   "id": "18b9a4b8",
   "metadata": {
    "pycharm": {
     "name": "#%%\n"
    }
   },
   "outputs": [],
   "source": [
    "data = data.groupby(\"timestamp\").agg({\"price\": \"mean\"})\n",
    "data = data.reset_index()"
   ]
  },
  {
   "cell_type": "markdown",
   "id": "c5e050b9",
   "metadata": {
    "pycharm": {
     "name": "#%% md\n"
    }
   },
   "source": [
    "### Rounding Price"
   ]
  },
  {
   "cell_type": "code",
   "execution_count": null,
   "id": "98fcd8d0",
   "metadata": {
    "pycharm": {
     "name": "#%%\n"
    }
   },
   "outputs": [],
   "source": [
    "data = data.round({\"price\": 0})"
   ]
  },
  {
   "cell_type": "markdown",
   "id": "90a8cddd",
   "metadata": {
    "pycharm": {
     "name": "#%% md\n"
    }
   },
   "source": [
    "## Timeseries Evenly Spaced"
   ]
  },
  {
   "cell_type": "code",
   "execution_count": null,
   "id": "f2db0bd8",
   "metadata": {},
   "outputs": [],
   "source": [
    "diffed_stamps = data[\"timestamp\"].dt.minute.diff().drop(0)\n",
    "is_evenly_spaced = ((diffed_stamps == 1) | (diffed_stamps == -59)).all()\n",
    "\n",
    "print(f\"Timeseries is evenly spaced = {is_evenly_spaced}\")"
   ]
  },
  {
   "cell_type": "code",
   "execution_count": null,
   "id": "cd98c213",
   "metadata": {
    "pycharm": {
     "name": "#%%\n"
    }
   },
   "outputs": [],
   "source": [
    "data = data.set_index(\"timestamp\")\n",
    "data.resample(rule = \"min\")\n",
    "data = data.asfreq(\"min\")\n",
    "data[\"price\"] = data[\"price\"].fillna(method=\"ffill\")"
   ]
  },
  {
   "cell_type": "code",
   "execution_count": null,
   "id": "17a8e7c6",
   "metadata": {},
   "outputs": [],
   "source": [
    "resetted = data.reset_index()\n",
    "diffed_stamps = resetted[\"timestamp\"].dt.minute.diff().drop(0)\n",
    "is_evenly_spaced = ((diffed_stamps == 1) | (diffed_stamps == -59)).all()\n",
    "\n",
    "print(f\"Timeseries is evenly spaced = {is_evenly_spaced}\")"
   ]
  },
  {
   "cell_type": "markdown",
   "id": "d7c30a5c",
   "metadata": {
    "pycharm": {
     "name": "#%% md\n"
    }
   },
   "source": [
    "## Differencing"
   ]
  },
  {
   "cell_type": "code",
   "execution_count": null,
   "id": "511d8dc6",
   "metadata": {
    "pycharm": {
     "name": "#%%\n"
    }
   },
   "outputs": [],
   "source": [
    "#data = data.diff().dropna()\n",
    "#Probably not needed"
   ]
  },
  {
   "cell_type": "markdown",
   "id": "68c722b7",
   "metadata": {
    "pycharm": {
     "name": "#%% md\n"
    }
   },
   "source": [
    "## Apply Exponential Smoothing"
   ]
  },
  {
   "cell_type": "code",
   "execution_count": null,
   "id": "85743bdc",
   "metadata": {
    "pycharm": {
     "name": "#%%\n"
    }
   },
   "outputs": [],
   "source": [
    "train_count = round(data.shape[0] * 0.90)\n",
    "test_count = train_count + 1\n",
    "\n",
    "train_data = data.iloc[:train_count]\n",
    "test_data = data.iloc[test_count:]"
   ]
  },
  {
   "cell_type": "code",
   "execution_count": null,
   "id": "e3aabeab",
   "metadata": {
    "pycharm": {
     "name": "#%%\n"
    }
   },
   "outputs": [],
   "source": [
    "model = Holt(train_data[\"price\"], exponential=True, initialization_method=\"estimated\").fit()"
   ]
  },
  {
   "cell_type": "code",
   "execution_count": null,
   "id": "18354eff",
   "metadata": {
    "pycharm": {
     "name": "#%%\n"
    }
   },
   "outputs": [],
   "source": [
    "f = model.forecast(60*2)\n",
    "f = f.to_frame(name=\"price\")"
   ]
  },
  {
   "cell_type": "code",
   "execution_count": null,
   "id": "433ce1a8",
   "metadata": {
    "pycharm": {
     "name": "#%%\n"
    }
   },
   "outputs": [],
   "source": [
    "data['price'].plot(legend=True,label=\"Complete\")\n",
    "f['price'].plot(legend=True,label=\"Forecast\",figsize=(12,8));"
   ]
  },
  {
   "cell_type": "code",
   "execution_count": null,
   "id": "9da6414c",
   "metadata": {},
   "outputs": [],
   "source": []
  }
 ],
 "metadata": {
  "kernelspec": {
   "display_name": "Python 3 (ipykernel)",
   "language": "python",
   "name": "python3"
  },
  "language_info": {
   "codemirror_mode": {
    "name": "ipython",
    "version": 3
   },
   "file_extension": ".py",
   "mimetype": "text/x-python",
   "name": "python",
   "nbconvert_exporter": "python",
   "pygments_lexer": "ipython3",
   "version": "3.8.10"
  },
  "toc": {
   "base_numbering": 1,
   "nav_menu": {},
   "number_sections": true,
   "sideBar": true,
   "skip_h1_title": false,
   "title_cell": "Table of Contents",
   "title_sidebar": "Contents",
   "toc_cell": false,
   "toc_position": {},
   "toc_section_display": true,
   "toc_window_display": false
  },
  "varInspector": {
   "cols": {
    "lenName": 16,
    "lenType": 16,
    "lenVar": 40
   },
   "kernels_config": {
    "python": {
     "delete_cmd_postfix": "",
     "delete_cmd_prefix": "del ",
     "library": "var_list.py",
     "varRefreshCmd": "print(var_dic_list())"
    },
    "r": {
     "delete_cmd_postfix": ") ",
     "delete_cmd_prefix": "rm(",
     "library": "var_list.r",
     "varRefreshCmd": "cat(var_dic_list()) "
    }
   },
   "types_to_exclude": [
    "module",
    "function",
    "builtin_function_or_method",
    "instance",
    "_Feature"
   ],
   "window_display": false
  }
 },
 "nbformat": 4,
 "nbformat_minor": 5
}
