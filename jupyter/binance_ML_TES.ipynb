{
 "cells": [
  {
   "cell_type": "code",
   "execution_count": null,
   "id": "ba080527",
   "metadata": {},
   "outputs": [],
   "source": [
    "import numpy as np\n",
    "import pandas as pd\n",
    "import sqlite3\n",
    "import matplotlib as plt\n",
    "%matplotlib inline\n",
    "from statsmodels.tsa.holtwinters import ExponentialSmoothing\n",
    "from statsmodels.tsa.holtwinters import SimpleExpSmoothing"
   ]
  },
  {
   "cell_type": "code",
   "execution_count": null,
   "id": "bd524fad",
   "metadata": {},
   "outputs": [],
   "source": [
    "cnx = sqlite3.connect('../out/binance_historic_trades.db')"
   ]
  },
  {
   "cell_type": "code",
   "execution_count": null,
   "id": "0664057f",
   "metadata": {},
   "outputs": [],
   "source": [
    "df = pd.read_sql_query(\"SELECT * FROM historic_trades\", cnx)"
   ]
  },
  {
   "cell_type": "code",
   "execution_count": null,
   "id": "348c0fb2",
   "metadata": {},
   "outputs": [],
   "source": [
    "df['timestamp'] = df['timestamp'].drop_duplicates(keep='first')"
   ]
  },
  {
   "cell_type": "code",
   "execution_count": null,
   "id": "f2684871",
   "metadata": {},
   "outputs": [],
   "source": [
    "df.dropna(subset=['timestamp'], how='all', inplace=True)"
   ]
  },
  {
   "cell_type": "code",
   "execution_count": null,
   "id": "e47197e5",
   "metadata": {},
   "outputs": [],
   "source": [
    "df['timestamp'] = pd.to_datetime(df['timestamp'], unit = 'ms')"
   ]
  },
  {
   "cell_type": "code",
   "execution_count": null,
   "id": "cd98c213",
   "metadata": {},
   "outputs": [],
   "source": [
    "df = df.set_index('timestamp')"
   ]
  },
  {
   "cell_type": "code",
   "execution_count": null,
   "id": "0170115b",
   "metadata": {},
   "outputs": [],
   "source": [
    "df = df.drop(['tradeId', 'symbol', 'quantity'], axis = 1)"
   ]
  },
  {
   "cell_type": "code",
   "execution_count": null,
   "id": "96d08e0a",
   "metadata": {},
   "outputs": [],
   "source": [
    "df.resample(rule = 'S')"
   ]
  },
  {
   "cell_type": "code",
   "execution_count": null,
   "id": "7af07ef0",
   "metadata": {},
   "outputs": [],
   "source": [
    "df = df.asfreq('S')"
   ]
  },
  {
   "cell_type": "code",
   "execution_count": null,
   "id": "0f4438cf",
   "metadata": {},
   "outputs": [],
   "source": [
    "df['price'] = df['price'].fillna(method='ffill')"
   ]
  },
  {
   "cell_type": "code",
   "execution_count": null,
   "id": "540d976f",
   "metadata": {},
   "outputs": [],
   "source": [
    "df['TESadd12'] = ExponentialSmoothing(df['price'],trend='add',seasonal='add',seasonal_periods = 2).fit().fittedvalues\n",
    "df.head()"
   ]
  },
  {
   "cell_type": "code",
   "execution_count": null,
   "id": "0d42b036",
   "metadata": {},
   "outputs": [],
   "source": [
    "df[['price','TESadd12']].plot(figsize=(12,6)).autoscale(axis='x',tight=True);"
   ]
  },
  {
   "cell_type": "code",
   "execution_count": null,
   "id": "aec7a00f",
   "metadata": {},
   "outputs": [],
   "source": [
    "train_data = df.iloc[:152707] # 75%\n",
    "test_data = df.iloc[152707:]"
   ]
  },
  {
   "cell_type": "code",
   "execution_count": null,
   "id": "e3aabeab",
   "metadata": {},
   "outputs": [],
   "source": [
    "fitted_model = ExponentialSmoothing(train_data['price'],trend='mul',seasonal='mul', seasonal_periods=2).fit()"
   ]
  },
  {
   "cell_type": "code",
   "execution_count": null,
   "id": "8a151546",
   "metadata": {},
   "outputs": [],
   "source": [
    "test_predictions = fitted_model.forecast(3600).rename('HW Forecast')"
   ]
  },
  {
   "cell_type": "code",
   "execution_count": null,
   "id": "433ce1a8",
   "metadata": {},
   "outputs": [],
   "source": [
    "train_data['price'].plot(legend=True,label='TRAIN')\n",
    "test_data['price'].plot(legend=True,label='TEST',figsize=(12,8))\n",
    "test_predictions.plot(legend=True,label='PREDICTION');"
   ]
  }
 ],
 "metadata": {
  "kernelspec": {
   "display_name": "Python 3 (ipykernel)",
   "language": "python",
   "name": "python3"
  },
  "language_info": {
   "codemirror_mode": {
    "name": "ipython",
    "version": 3
   },
   "file_extension": ".py",
   "mimetype": "text/x-python",
   "name": "python",
   "nbconvert_exporter": "python",
   "pygments_lexer": "ipython3",
   "version": "3.8.15"
  },
  "toc": {
   "base_numbering": 1,
   "nav_menu": {},
   "number_sections": true,
   "sideBar": true,
   "skip_h1_title": false,
   "title_cell": "Table of Contents",
   "title_sidebar": "Contents",
   "toc_cell": false,
   "toc_position": {},
   "toc_section_display": true,
   "toc_window_display": false
  },
  "varInspector": {
   "cols": {
    "lenName": 16,
    "lenType": 16,
    "lenVar": 40
   },
   "kernels_config": {
    "python": {
     "delete_cmd_postfix": "",
     "delete_cmd_prefix": "del ",
     "library": "var_list.py",
     "varRefreshCmd": "print(var_dic_list())"
    },
    "r": {
     "delete_cmd_postfix": ") ",
     "delete_cmd_prefix": "rm(",
     "library": "var_list.r",
     "varRefreshCmd": "cat(var_dic_list()) "
    }
   },
   "types_to_exclude": [
    "module",
    "function",
    "builtin_function_or_method",
    "instance",
    "_Feature"
   ],
   "window_display": false
  }
 },
 "nbformat": 4,
 "nbformat_minor": 5
}
